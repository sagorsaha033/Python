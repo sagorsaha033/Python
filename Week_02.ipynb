{
  "cells": [
    {
      "cell_type": "markdown",
      "metadata": {
        "id": "sVSQpyqT9OBH"
      },
      "source": [
        "# User Input"
      ]
    },
    {
      "cell_type": "code",
      "execution_count": 1,
      "metadata": {
        "colab": {
          "base_uri": "https://localhost:8080/"
        },
        "id": "JPTt3qbo9OBI",
        "outputId": "83b4c384-c0ad-4d3d-a040-ff7c89b7a8e6"
      },
      "outputs": [
        {
          "output_type": "stream",
          "name": "stdout",
          "text": [
            "210\n"
          ]
        }
      ],
      "source": [
        "x = 210\n",
        "print(x)"
      ]
    },
    {
      "cell_type": "code",
      "source": [
        "a = input(\"Enter what you want: \")\n",
        "print(a)"
      ],
      "metadata": {
        "id": "YCouIBhhorBO",
        "colab": {
          "base_uri": "https://localhost:8080/"
        },
        "outputId": "669842ff-633a-49ab-b330-c3ccfe2f675b"
      },
      "execution_count": 7,
      "outputs": [
        {
          "output_type": "stream",
          "name": "stdout",
          "text": [
            "Enter what you want: 55\n",
            "55\n"
          ]
        }
      ]
    },
    {
      "cell_type": "code",
      "execution_count": 5,
      "metadata": {
        "colab": {
          "base_uri": "https://localhost:8080/"
        },
        "id": "WgnNFESa9OBL",
        "outputId": "4d43236a-e72f-4dfc-f592-4471b9340a5e"
      },
      "outputs": [
        {
          "output_type": "stream",
          "name": "stdout",
          "text": [
            "Enter a value: 100\n",
            "The given value is 100\n",
            "<class 'str'>\n"
          ]
        }
      ],
      "source": [
        "a = input('Enter a value: ') # always returns string\n",
        "print('The given value is ' +a)\n",
        "print(type(a))"
      ]
    },
    {
      "cell_type": "code",
      "execution_count": 6,
      "metadata": {
        "id": "qGfffqzZ9OBM",
        "colab": {
          "base_uri": "https://localhost:8080/"
        },
        "outputId": "3e45d7dd-e3f3-4045-bb9b-6633a09b6e38"
      },
      "outputs": [
        {
          "output_type": "stream",
          "name": "stdout",
          "text": [
            "Enter a number: 10\n",
            "The result is 110\n",
            "<class 'int'>\n"
          ]
        }
      ],
      "source": [
        "a = int(input('Enter a number: ')) # returns string but converted to int\n",
        "print('The result is', a+100)\n",
        "print(type(a))"
      ]
    },
    {
      "cell_type": "code",
      "source": [
        "while True:\n",
        "  a = input('Enter your Birth Year:')\n",
        "  if a.isdigit():\n",
        "    print('You are ' + str(2024-int(a)) + ' years old')\n",
        "    print(2023-int(a))\n",
        "    break\n",
        "  print('WRONG INPUT')"
      ],
      "metadata": {
        "id": "LhsfvXa7lAk8",
        "colab": {
          "base_uri": "https://localhost:8080/"
        },
        "outputId": "c27bc1b1-e58a-45a2-86a6-d09316b64ce1"
      },
      "execution_count": 8,
      "outputs": [
        {
          "output_type": "stream",
          "name": "stdout",
          "text": [
            "Enter your Birth Year:1998\n",
            "You are 26 years old\n",
            "25\n"
          ]
        }
      ]
    },
    {
      "cell_type": "markdown",
      "metadata": {
        "id": "yd5uai6a9OBO"
      },
      "source": [
        "# if statement\n",
        "There can be zero or more elif parts, and the else part is optional. The keyword ‘elif’ is short for ‘else if’"
      ]
    },
    {
      "cell_type": "code",
      "execution_count": 9,
      "metadata": {
        "colab": {
          "base_uri": "https://localhost:8080/"
        },
        "id": "bkNWtGEA9OBP",
        "outputId": "0853b6dd-bf72-4a6e-e220-2af742e1fcd3"
      },
      "outputs": [
        {
          "output_type": "stream",
          "name": "stdout",
          "text": [
            "okay\n",
            "fine\n",
            "not okay\n"
          ]
        }
      ],
      "source": [
        "# indent\n",
        "i = 2\n",
        "if i <5: # () not required, {} not required\n",
        "  print('okay')\n",
        "  print('fine')\n",
        "else:\n",
        "  print('bad')\n",
        "print('not okay') # will be executed in each run"
      ]
    },
    {
      "cell_type": "code",
      "execution_count": 10,
      "metadata": {
        "colab": {
          "base_uri": "https://localhost:8080/"
        },
        "id": "4-2lHhfa9OBQ",
        "outputId": "47c21398-0da8-4d58-e92f-18c0abc95c18"
      },
      "outputs": [
        {
          "output_type": "stream",
          "name": "stdout",
          "text": [
            "Please enter an integer: 55\n",
            "More\n"
          ]
        }
      ],
      "source": [
        "x = int(input(\"Please enter an integer: \"))\n",
        "if x < 0:\n",
        "    x = 0\n",
        "    print('Negative changed to zero')\n",
        "elif x == 0:\n",
        "    print('Zero')\n",
        "elif x == 1:\n",
        "    print('Single')\n",
        "else:\n",
        "  print('More')"
      ]
    },
    {
      "cell_type": "markdown",
      "metadata": {
        "id": "CeTgipag9OBR"
      },
      "source": [
        "<b>Exercise 1:</b> Input a course mark (0-100) from user and use the <b>if</b> statement to print corresponding grade."
      ]
    },
    {
      "cell_type": "code",
      "execution_count": 11,
      "metadata": {
        "id": "75nu_spY9OBS",
        "colab": {
          "base_uri": "https://localhost:8080/"
        },
        "outputId": "88576539-24e9-4802-f27a-2498600ca082"
      },
      "outputs": [
        {
          "output_type": "stream",
          "name": "stdout",
          "text": [
            "Enter the course mark (0-100): 95\n",
            "The grade for the course mark 95.0 is: A+\n"
          ]
        }
      ],
      "source": [
        "# code here\n",
        "course_mark = float(input(\"Enter the course mark (0-100): \"))\n",
        "if 90 <= course_mark <= 100:\n",
        "    grade = \"A+\"\n",
        "elif 85 <= course_mark < 90:\n",
        "    grade = \"A\"\n",
        "elif 80 <= course_mark < 85:\n",
        "    grade = \"B+\"\n",
        "elif 75 <= course_mark < 80:\n",
        "    grade = \"B\"\n",
        "elif 70 <= course_mark < 75:\n",
        "    grade = \"C+\"\n",
        "elif 65 <= course_mark < 10:\n",
        "    grade = \"C\"\n",
        "elif 60 <= course_mark < 65:\n",
        "    grade = \"D+\"\n",
        "elif 50 <= course_mark < 60:\n",
        "    grade = \"D\"\n",
        "elif 0 <= course_mark < 50:\n",
        "    grade = \"F\"\n",
        "else:\n",
        "     grade = \"Invalid input, please enter a mark between 0 to 100\"\n",
        "print(f\"The grade for the course mark {course_mark} is: {grade}\")\n"
      ]
    },
    {
      "cell_type": "markdown",
      "metadata": {
        "id": "BLPDtgWr9OBT"
      },
      "source": [
        "# for statement\n",
        "<p style=\"text-align: justify\">The for statement in Python differs a bit from what you may be used to in C or C++. Rather than always giving the user the ability to define both the iteration step and halting condition, Python’s for statement iterates over the items of any sequence (a list or a string), in the order that they appear in the sequence.</p>"
      ]
    },
    {
      "cell_type": "code",
      "execution_count": 12,
      "metadata": {
        "colab": {
          "base_uri": "https://localhost:8080/"
        },
        "id": "k6eiUKVF9OBU",
        "outputId": "97360b0f-6519-4d6a-b123-d339327d3823"
      },
      "outputs": [
        {
          "output_type": "stream",
          "name": "stdout",
          "text": [
            "the word is: cat\n",
            "the word is: window\n",
            "the word is: dhaka\n",
            "the word is: ctg\n"
          ]
        }
      ],
      "source": [
        "# Measure some strings:\n",
        "words = ['cat', 'window', 'dhaka','ctg']\n",
        "\n",
        "for w in words:\n",
        "    print('the word is:',w)"
      ]
    },
    {
      "cell_type": "code",
      "source": [
        "words = ['cat', 'window', 'dhaka','ctg']\n",
        "for i in range(len(words)):\n",
        "    print('The word is:',words[i])"
      ],
      "metadata": {
        "colab": {
          "base_uri": "https://localhost:8080/"
        },
        "id": "NdM3WOnovXx2",
        "outputId": "fefcb49c-bee7-45c2-df83-5534ecd84553"
      },
      "execution_count": 13,
      "outputs": [
        {
          "output_type": "stream",
          "name": "stdout",
          "text": [
            "The word is: cat\n",
            "The word is: window\n",
            "The word is: dhaka\n",
            "The word is: ctg\n"
          ]
        }
      ]
    },
    {
      "cell_type": "code",
      "source": [
        "list(range(0,10))"
      ],
      "metadata": {
        "colab": {
          "base_uri": "https://localhost:8080/"
        },
        "id": "22etO_4J87wJ",
        "outputId": "c6eaf36d-28de-41d5-86ef-846da7555ab1"
      },
      "execution_count": 14,
      "outputs": [
        {
          "output_type": "execute_result",
          "data": {
            "text/plain": [
              "[0, 1, 2, 3, 4, 5, 6, 7, 8, 9]"
            ]
          },
          "metadata": {},
          "execution_count": 14
        }
      ]
    },
    {
      "cell_type": "code",
      "execution_count": 15,
      "metadata": {
        "colab": {
          "base_uri": "https://localhost:8080/"
        },
        "id": "gxRxRU9B9OBW",
        "outputId": "15c8a1ce-cde7-4d69-f8a3-f2e8c6237339"
      },
      "outputs": [
        {
          "output_type": "stream",
          "name": "stdout",
          "text": [
            "11\n",
            "66\n",
            "88\n",
            "18\n",
            "17\n"
          ]
        }
      ],
      "source": [
        "numbers = [1, 56, 78, 8,7]\n",
        "\n",
        "for n in numbers:\n",
        "    print(n+10)"
      ]
    },
    {
      "cell_type": "code",
      "source": [
        "list(range(10))"
      ],
      "metadata": {
        "colab": {
          "base_uri": "https://localhost:8080/"
        },
        "id": "xM7Q3lOs1Zq1",
        "outputId": "c6730497-51dc-4ba1-8da8-14c4968a6d46"
      },
      "execution_count": 16,
      "outputs": [
        {
          "output_type": "execute_result",
          "data": {
            "text/plain": [
              "[0, 1, 2, 3, 4, 5, 6, 7, 8, 9]"
            ]
          },
          "metadata": {},
          "execution_count": 16
        }
      ]
    },
    {
      "cell_type": "markdown",
      "metadata": {
        "id": "OnIIzz_29OBX"
      },
      "source": [
        "### The range() Function\n",
        "If you do need to iterate over a sequence of numbers, the built-in function range() comes in handy. It generates arithmetic progressions:"
      ]
    },
    {
      "cell_type": "code",
      "execution_count": 17,
      "metadata": {
        "colab": {
          "base_uri": "https://localhost:8080/"
        },
        "id": "eIvd_Nhy9OBY",
        "outputId": "c688a9ce-1816-403a-c46c-36e37f4742b8"
      },
      "outputs": [
        {
          "output_type": "stream",
          "name": "stdout",
          "text": [
            "0\n",
            "2\n",
            "4\n",
            "6\n",
            "8\n",
            "10\n",
            "12\n",
            "14\n",
            "16\n",
            "18\n"
          ]
        }
      ],
      "source": [
        "# repeated for 0 to 4\n",
        "# for(i=0;i<5;i++)\n",
        "for i in range(0,20,2):\n",
        "    print(i)"
      ]
    },
    {
      "cell_type": "markdown",
      "metadata": {
        "id": "Tdu8trNj9OBZ"
      },
      "source": [
        "<p style=\"text-align: justify\">The given end point is never part of the generated sequence; range(10) generates 10 values, the legal indices for items of a sequence of length 10. It is possible to let the range start at another number, or to specify a different increment (even negative; sometimes this is called the ‘step’):</p>"
      ]
    },
    {
      "cell_type": "code",
      "execution_count": 18,
      "metadata": {
        "colab": {
          "base_uri": "https://localhost:8080/"
        },
        "id": "0l562ow69OBZ",
        "outputId": "23bcc5a1-2c7c-4911-d8cb-82e5fc7936e3"
      },
      "outputs": [
        {
          "output_type": "execute_result",
          "data": {
            "text/plain": [
              "[5, 6, 7, 8, 9]"
            ]
          },
          "metadata": {},
          "execution_count": 18
        }
      ],
      "source": [
        "list(range(5, 10))"
      ]
    },
    {
      "cell_type": "code",
      "execution_count": 19,
      "metadata": {
        "colab": {
          "base_uri": "https://localhost:8080/"
        },
        "id": "7cGVhf0o9OBa",
        "outputId": "2e87064d-8fd9-431a-d773-a9849ee4e700"
      },
      "outputs": [
        {
          "output_type": "execute_result",
          "data": {
            "text/plain": [
              "[0, 3, 6, 9]"
            ]
          },
          "metadata": {},
          "execution_count": 19
        }
      ],
      "source": [
        "list(range(0, 10, 3))"
      ]
    },
    {
      "cell_type": "code",
      "source": [
        "list(range(10, 2, -1))"
      ],
      "metadata": {
        "colab": {
          "base_uri": "https://localhost:8080/"
        },
        "id": "iJrB_nyirUin",
        "outputId": "38c18933-8582-4a5f-c1f3-758db3bd0a7b"
      },
      "execution_count": 20,
      "outputs": [
        {
          "output_type": "execute_result",
          "data": {
            "text/plain": [
              "[10, 9, 8, 7, 6, 5, 4, 3]"
            ]
          },
          "metadata": {},
          "execution_count": 20
        }
      ]
    },
    {
      "cell_type": "code",
      "execution_count": 21,
      "metadata": {
        "colab": {
          "base_uri": "https://localhost:8080/"
        },
        "id": "NySucrFE9OBa",
        "outputId": "b1140016-ab97-4b9b-c975-f3cffd533744"
      },
      "outputs": [
        {
          "output_type": "execute_result",
          "data": {
            "text/plain": [
              "[-10, -40, -70, -100]"
            ]
          },
          "metadata": {},
          "execution_count": 21
        }
      ],
      "source": [
        "list(range(-10, -101, -30))"
      ]
    },
    {
      "cell_type": "code",
      "execution_count": 22,
      "metadata": {
        "colab": {
          "base_uri": "https://localhost:8080/"
        },
        "id": "XF2vWGQb9OBb",
        "outputId": "88d1cf8a-f1f6-463b-93ce-c13fc19edb08"
      },
      "outputs": [
        {
          "output_type": "stream",
          "name": "stdout",
          "text": [
            "0 1\n",
            "1 56\n",
            "2 78\n",
            "3 8\n",
            "4 7\n"
          ]
        }
      ],
      "source": [
        "for i in range(len(numbers)):\n",
        "    print(i, numbers[i])"
      ]
    },
    {
      "cell_type": "code",
      "execution_count": 23,
      "metadata": {
        "colab": {
          "base_uri": "https://localhost:8080/"
        },
        "id": "O4fHt_Qt9OBb",
        "outputId": "bdd56a3c-41e7-4f4c-8cc0-0ebe1acb9600"
      },
      "outputs": [
        {
          "output_type": "stream",
          "name": "stdout",
          "text": [
            "2,12,22,32,42,52,62,72,82,92,"
          ]
        }
      ],
      "source": [
        "for i in range(2,100,10):\n",
        "    print(i,end=',')"
      ]
    },
    {
      "cell_type": "markdown",
      "metadata": {
        "id": "_0M3Y1F09OBc"
      },
      "source": [
        "<b>Exercise 2:</b> Print all the even numbers between 0 to 100 using <b>for loop</b> and <b>range</b>."
      ]
    },
    {
      "cell_type": "code",
      "execution_count": 24,
      "metadata": {
        "id": "nzKgmsMy9OBc",
        "colab": {
          "base_uri": "https://localhost:8080/"
        },
        "outputId": "3f3224ac-d6e9-4db6-a75b-5ba00fc9739c"
      },
      "outputs": [
        {
          "output_type": "stream",
          "name": "stdout",
          "text": [
            "0,2,4,6,8,10,12,14,16,18,20,22,24,26,28,30,32,34,36,38,40,42,44,46,48,50,52,54,56,58,60,62,64,66,68,70,72,74,76,78,80,82,84,86,88,90,92,94,96,98,100,"
          ]
        }
      ],
      "source": [
        "# code here\n",
        "for num in range (0, 101, 2):\n",
        "    print(num, end=',')"
      ]
    },
    {
      "cell_type": "code",
      "execution_count": 25,
      "metadata": {
        "colab": {
          "base_uri": "https://localhost:8080/"
        },
        "id": "CxyodY3I9OBd",
        "outputId": "d84c1b06-8bb6-4413-f6f3-be3d0ee0f589"
      },
      "outputs": [
        {
          "output_type": "stream",
          "name": "stdout",
          "text": [
            "b a n g l a d e s h "
          ]
        }
      ],
      "source": [
        "country = \"bangladesh\"\n",
        "for c in country:\n",
        "    print(c,end=' ')"
      ]
    },
    {
      "cell_type": "markdown",
      "metadata": {
        "id": "UpWE7Kch9OBd"
      },
      "source": [
        "# Functions\n",
        "<p style=\"text-align: justify\">The keyword def introduces a function definition. It must be followed by the function name and the parenthesized list of formal parameters. The statements that form the body of the function start at the next line, and must be indented.</p>"
      ]
    },
    {
      "cell_type": "code",
      "source": [
        "def operate(a, b):\n",
        "  print(str(a) + ' + ' + str(b) + ' = ' + str(a+b))\n",
        "  print(str(a) + ' - ' + str(b) + ' = ' + str(a-b))\n",
        "  print(str(a) + ' x ' + str(b) + ' = ' + str(a*b))\n",
        "  print(str(a) + ' / ' + str(b) + ' = ' + str(a/b))"
      ],
      "metadata": {
        "id": "YRU1pFyIKR5B"
      },
      "execution_count": 26,
      "outputs": []
    },
    {
      "cell_type": "code",
      "source": [
        "operate(90,5)"
      ],
      "metadata": {
        "colab": {
          "base_uri": "https://localhost:8080/"
        },
        "id": "x-UAfujIK6-k",
        "outputId": "f43fc04f-e167-4428-a2f1-55a919bb928e"
      },
      "execution_count": 27,
      "outputs": [
        {
          "output_type": "stream",
          "name": "stdout",
          "text": [
            "90 + 5 = 95\n",
            "90 - 5 = 85\n",
            "90 x 5 = 450\n",
            "90 / 5 = 18.0\n"
          ]
        }
      ]
    },
    {
      "cell_type": "code",
      "source": [
        "operate(5,2)"
      ],
      "metadata": {
        "colab": {
          "base_uri": "https://localhost:8080/"
        },
        "id": "6JQoaH0wuuWj",
        "outputId": "f1f9325a-9103-4fd8-b460-b39ad4e5123f"
      },
      "execution_count": 28,
      "outputs": [
        {
          "output_type": "stream",
          "name": "stdout",
          "text": [
            "5 + 2 = 7\n",
            "5 - 2 = 3\n",
            "5 x 2 = 10\n",
            "5 / 2 = 2.5\n"
          ]
        }
      ]
    },
    {
      "cell_type": "code",
      "execution_count": 29,
      "metadata": {
        "id": "zZaBBUgb9OBd"
      },
      "outputs": [],
      "source": [
        "def fib(n):    # write Fibonacci series up to n\n",
        "    lst = [0,1]\n",
        "    a, b = 0, 1\n",
        "    while True:\n",
        "        #print(a, end=' ')\n",
        "        a, b = b, a+b\n",
        "        if b < n:\n",
        "          lst.append(b)\n",
        "        else:\n",
        "          break\n",
        "        #print()\n",
        "    return lst\n"
      ]
    },
    {
      "cell_type": "code",
      "execution_count": 30,
      "metadata": {
        "colab": {
          "base_uri": "https://localhost:8080/"
        },
        "id": "aFCr3Pc99OBe",
        "outputId": "f99fabbf-421b-43bd-e43b-6c20d71f0bdc"
      },
      "outputs": [
        {
          "output_type": "stream",
          "name": "stdout",
          "text": [
            "[0, 1, 1, 2, 3, 5, 8, 13, 21, 34, 55, 89, 144, 233, 377, 610, 987]\n"
          ]
        }
      ],
      "source": [
        "# Now call the function we just defined:\n",
        "r = fib(1000)\n",
        "print(r)"
      ]
    },
    {
      "cell_type": "code",
      "execution_count": 31,
      "metadata": {
        "id": "_SueK7ww9OBe"
      },
      "outputs": [],
      "source": [
        "# define method\n",
        "def addnumbers(a, b): # add numbers and return result\n",
        "    # logic\n",
        "    c = a + b\n",
        "    return c"
      ]
    },
    {
      "cell_type": "code",
      "source": [
        "addnumbers([2],[33])"
      ],
      "metadata": {
        "colab": {
          "base_uri": "https://localhost:8080/"
        },
        "id": "8fRPogdbzLSI",
        "outputId": "ab2de878-5fde-4e68-9c84-b87d9492444f"
      },
      "execution_count": 32,
      "outputs": [
        {
          "output_type": "execute_result",
          "data": {
            "text/plain": [
              "[2, 33]"
            ]
          },
          "metadata": {},
          "execution_count": 32
        }
      ]
    },
    {
      "cell_type": "code",
      "execution_count": 33,
      "metadata": {
        "colab": {
          "base_uri": "https://localhost:8080/"
        },
        "id": "WX14lRM59OBe",
        "outputId": "41032e12-43e1-4b9f-efdd-9084c8fccd8b"
      },
      "outputs": [
        {
          "output_type": "stream",
          "name": "stdout",
          "text": [
            "8ppp9\n"
          ]
        }
      ],
      "source": [
        "y = addnumbers('8ppp', '9') # use or call method\n",
        "print(y)"
      ]
    },
    {
      "cell_type": "code",
      "execution_count": 34,
      "metadata": {
        "id": "rVpfHNMo9OBf",
        "outputId": "e909db6f-54f7-482f-8d8c-7092c03d9fc2",
        "colab": {
          "base_uri": "https://localhost:8080/"
        }
      },
      "outputs": [
        {
          "output_type": "execute_result",
          "data": {
            "text/plain": [
              "[33, 77, 66]"
            ]
          },
          "metadata": {},
          "execution_count": 34
        }
      ],
      "source": [
        "addnumbers([33,77], [66])"
      ]
    },
    {
      "cell_type": "code",
      "execution_count": 35,
      "metadata": {
        "id": "S1xGUH_N9OBf"
      },
      "outputs": [],
      "source": [
        "# add list values\n",
        "def addValues(num):\n",
        "    sum = 0\n",
        "    for n in num:\n",
        "        sum = sum+ n\n",
        "    return sum"
      ]
    },
    {
      "cell_type": "code",
      "execution_count": 37,
      "metadata": {
        "id": "CqJJSRvK9OBf",
        "colab": {
          "base_uri": "https://localhost:8080/"
        },
        "outputId": "3598fead-3892-4a83-adab-03dc9ed08eab"
      },
      "outputs": [
        {
          "output_type": "execute_result",
          "data": {
            "text/plain": [
              "10"
            ]
          },
          "metadata": {},
          "execution_count": 37
        }
      ],
      "source": [
        "addValues([10])"
      ]
    },
    {
      "cell_type": "code",
      "execution_count": 38,
      "metadata": {
        "id": "egl16dJp9OBg",
        "colab": {
          "base_uri": "https://localhost:8080/"
        },
        "outputId": "7ebc4043-87bc-47e3-d7c7-67ac940b7824"
      },
      "outputs": [
        {
          "output_type": "execute_result",
          "data": {
            "text/plain": [
              "28"
            ]
          },
          "metadata": {},
          "execution_count": 38
        }
      ],
      "source": [
        "v = [5, 4,12, 7]\n",
        "addValues(v)"
      ]
    },
    {
      "cell_type": "code",
      "source": [
        "# prompt:\n",
        "\n",
        "def operate(a, b):\n",
        "  print(str(a) + ' + ' + str(b) + ' = ' + str(a+b))\n",
        "  print(str(a) + ' - ' + str(b) + ' = ' + str(a-b))\n",
        "  print(str(a) + ' x ' + str(b) + ' = ' + str(a*b))\n",
        "  print(str(a) + ' / ' + str(b) + ' = ' + str(a/b))\n",
        "\n",
        "operate(90,5)\n",
        "operate(5,2)\n"
      ],
      "metadata": {
        "id": "xLgwZlvbrirQ",
        "colab": {
          "base_uri": "https://localhost:8080/"
        },
        "outputId": "3874f892-6695-4052-c622-84f07b46fe9f"
      },
      "execution_count": 39,
      "outputs": [
        {
          "output_type": "stream",
          "name": "stdout",
          "text": [
            "90 + 5 = 95\n",
            "90 - 5 = 85\n",
            "90 x 5 = 450\n",
            "90 / 5 = 18.0\n",
            "5 + 2 = 7\n",
            "5 - 2 = 3\n",
            "5 x 2 = 10\n",
            "5 / 2 = 2.5\n"
          ]
        }
      ]
    },
    {
      "cell_type": "code",
      "execution_count": 40,
      "metadata": {
        "id": "HKIYxiaK9OBg",
        "colab": {
          "base_uri": "https://localhost:8080/"
        },
        "outputId": "e83fc379-e4e9-48c7-c4ca-d3289c71020f"
      },
      "outputs": [
        {
          "output_type": "execute_result",
          "data": {
            "text/plain": [
              "84"
            ]
          },
          "metadata": {},
          "execution_count": 40
        }
      ],
      "source": [
        "v = [5, 4,12, 7, 5, 4,12, 7, 5, 4,12, 7]\n",
        "addValues(v)"
      ]
    },
    {
      "cell_type": "code",
      "execution_count": 41,
      "metadata": {
        "id": "SksLGPeh9OBh"
      },
      "outputs": [],
      "source": [
        "# method/function\n",
        "def multiTable(n, r=10):\n",
        "    for i in range(1,r+1):\n",
        "        print(\"{}x{}={}\".format(n,i,n*i))"
      ]
    },
    {
      "cell_type": "code",
      "execution_count": 42,
      "metadata": {
        "id": "5X6DqTib9OBh",
        "colab": {
          "base_uri": "https://localhost:8080/"
        },
        "outputId": "6a68c805-9ac4-4b2d-937b-842cc8f18d61"
      },
      "outputs": [
        {
          "output_type": "stream",
          "name": "stdout",
          "text": [
            "8x1=8\n",
            "8x2=16\n",
            "8x3=24\n",
            "8x4=32\n",
            "8x5=40\n",
            "8x6=48\n",
            "8x7=56\n",
            "8x8=64\n",
            "8x9=72\n",
            "8x10=80\n"
          ]
        }
      ],
      "source": [
        "multiTable(8)"
      ]
    },
    {
      "cell_type": "code",
      "execution_count": 43,
      "metadata": {
        "id": "gfyLgPF29OBh",
        "colab": {
          "base_uri": "https://localhost:8080/"
        },
        "outputId": "7f57224d-f209-43fc-d48c-fd9321bea99f"
      },
      "outputs": [
        {
          "output_type": "stream",
          "name": "stdout",
          "text": [
            "15x1=15\n",
            "15x2=30\n",
            "15x3=45\n",
            "15x4=60\n",
            "15x5=75\n",
            "15x6=90\n",
            "15x7=105\n",
            "15x8=120\n",
            "15x9=135\n",
            "15x10=150\n"
          ]
        }
      ],
      "source": [
        "multiTable(15)"
      ]
    },
    {
      "cell_type": "markdown",
      "metadata": {
        "id": "ICNPFsDQ9OBh"
      },
      "source": [
        "<b>Exercise 3:</b> Define a <b>method/function</b> which will take two lists of numbers and returns a list (sum of two lists)\n",
        "<p>Example:<br>\n",
        "    Input: [3,4,5,1] and [6,7,2,8]<br>\n",
        "    output: [9,11,7,9]</p>\n"
      ]
    },
    {
      "cell_type": "code",
      "execution_count": 44,
      "metadata": {
        "id": "5MPMcHnz9OBi",
        "colab": {
          "base_uri": "https://localhost:8080/"
        },
        "outputId": "a0473ed2-ec7d-4bef-d6cf-38d7a2166c44"
      },
      "outputs": [
        {
          "output_type": "stream",
          "name": "stdout",
          "text": [
            "Input lists: [3, 4, 5, 1] and [6, 7, 2, 8]\n",
            "Output list: [9, 11, 7, 9]\n"
          ]
        }
      ],
      "source": [
        "# code here\n",
        "def add_lists(list1, list2):\n",
        "    if len(list1) != len(list2):\n",
        "        raise ValueError(\"Lists must have the same length\")\n",
        "    result = [x + y for x, y in zip(list1, list2)]\n",
        "    return result\n",
        "# Example usage:\n",
        "list1 = [3, 4, 5, 1]\n",
        "list2 = [6, 7, 2, 8]\n",
        "\n",
        "result_list = add_lists(list1, list2)\n",
        "print(\"Input lists:\", list1, \"and\", list2)\n",
        "print(\"Output list:\", result_list)\n",
        "\n"
      ]
    },
    {
      "cell_type": "markdown",
      "metadata": {
        "id": "DSjaC86G9OBi"
      },
      "source": [
        "<b> Exercise 4:</b> Write a <b>method</b> which will take the <b>full name</b> as input and return both the first name and last name.\n",
        "<p>Example:<br>\n",
        "    Input: Arafat Rahman Sunny<br>\n",
        "    Output: First name: Arafat, Last name: Sunny</p>"
      ]
    },
    {
      "cell_type": "code",
      "execution_count": 45,
      "metadata": {
        "id": "HCpI48lj9OBi",
        "colab": {
          "base_uri": "https://localhost:8080/"
        },
        "outputId": "ea8f9175-7876-4541-babf-620dd318727a"
      },
      "outputs": [
        {
          "output_type": "stream",
          "name": "stdout",
          "text": [
            "First name: Arafat, Last name: Rahman Sunny\n"
          ]
        }
      ],
      "source": [
        "# code here\n",
        "def split_name(full_name):\n",
        "    # Split the full name into a list of words\n",
        "    name_parts = full_name.split()\n",
        "\n",
        "    # Check if there are at least two parts (first name and last name)\n",
        "    if len(name_parts) < 2:\n",
        "        raise ValueError(\"Full name must contain both first and last names\")\n",
        "\n",
        "    # Extract the first and last names\n",
        "    first_name = name_parts[0]\n",
        "    last_name = ' '.join(name_parts[1:])\n",
        "    return f\"First name: {first_name}, Last name: {last_name}\"\n",
        "\n",
        "# Example usage:\n",
        "full_name = \"Arafat Rahman Sunny\"\n",
        "result = split_name(full_name)\n",
        "print(result)\n",
        "\n",
        "\n",
        "\n",
        "\n",
        "\n"
      ]
    }
  ],
  "metadata": {
    "kernelspec": {
      "display_name": "Python 3",
      "language": "python",
      "name": "python3"
    },
    "language_info": {
      "codemirror_mode": {
        "name": "ipython",
        "version": 3
      },
      "file_extension": ".py",
      "mimetype": "text/x-python",
      "name": "python",
      "nbconvert_exporter": "python",
      "pygments_lexer": "ipython3",
      "version": "3.8.5"
    },
    "colab": {
      "provenance": []
    }
  },
  "nbformat": 4,
  "nbformat_minor": 0
}